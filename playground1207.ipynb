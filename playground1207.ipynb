{
 "cells": [
  {
   "cell_type": "markdown",
   "source": [
    "Import necessary dependencies"
   ],
   "metadata": {
    "collapsed": false
   },
   "id": "d506ddd6fb592038"
  },
  {
   "cell_type": "code",
   "execution_count": 1,
   "outputs": [],
   "source": [
    "from langchain.embeddings import OllamaEmbeddings\n",
    "from langchain.llms import TextGen\n",
    "\n",
    "from llama_index import (\n",
    "    GPTKeywordTableIndex,\n",
    "    SimpleDirectoryReader,\n",
    "    LLMPredictor,\n",
    "    ServiceContext,\n",
    "    SQLDatabase,\n",
    "    SQLStructStoreIndex, VectorStoreIndex, set_global_service_context\n",
    ")\n",
    "from llama_index.indices.struct_store import SQLContextContainerBuilder, SQLTableRetrieverQueryEngine, \\\n",
    "    NLSQLTableQueryEngine\n",
    "from llama_index.llms import Ollama\n",
    "from llama_index.objects import SQLTableNodeMapping, SQLTableSchema, ObjectIndex\n",
    "\n",
    "from sqlalchemy import (\n",
    "    create_engine,\n",
    "    MetaData,\n",
    "    Table,\n",
    "    Column,\n",
    "    String,\n",
    "    Integer,\n",
    "    select,\n",
    "    inspect,\n",
    ")\n",
    "\n",
    "from sqlalchemy import insert\n",
    "from IPython.display import Markdown, display\n",
    "import os\n",
    "\n",
    "from llama_index.indices.struct_store.sql_query import (\n",
    "    SQLTableRetrieverQueryEngine,\n",
    ")\n",
    "from llama_index.objects import (\n",
    "    SQLTableNodeMapping,\n",
    "    ObjectIndex,\n",
    "    SQLTableSchema,\n",
    ")\n",
    "from llama_index import VectorStoreIndex"
   ],
   "metadata": {
    "collapsed": false,
    "ExecuteTime": {
     "end_time": "2023-12-08T07:04:56.154843Z",
     "start_time": "2023-12-08T07:04:54.444699Z"
    }
   },
   "id": "15a2071f1007a280"
  },
  {
   "cell_type": "markdown",
   "source": [
    "Set up llama client"
   ],
   "metadata": {
    "collapsed": false
   },
   "id": "669b97e3e8ed363b"
  },
  {
   "cell_type": "code",
   "execution_count": 2,
   "outputs": [],
   "source": [
    "llm = Ollama(model=\"llama2\", temperature=0.01)\n",
    "llm_predictor = LLMPredictor(llm)\n",
    "embed_model = OllamaEmbeddings(model=\"llama2:13b\")\n",
    "ctx = ServiceContext.from_defaults(llm_predictor=llm_predictor, embed_model=embed_model)\n",
    "set_global_service_context(ctx)"
   ],
   "metadata": {
    "collapsed": false,
    "ExecuteTime": {
     "end_time": "2023-12-08T07:04:58.284389Z",
     "start_time": "2023-12-08T07:04:58.192168Z"
    }
   },
   "id": "initial_id"
  },
  {
   "cell_type": "markdown",
   "source": [
    "Set up Query engine"
   ],
   "metadata": {
    "collapsed": false
   },
   "id": "abb30c8c50c3d392"
  },
  {
   "cell_type": "code",
   "execution_count": 3,
   "outputs": [
    {
     "name": "stdout",
     "output_type": "stream",
     "text": [
      "['Album', 'Artist', 'Customer', 'Employee', 'Genre', 'Invoice', 'InvoiceLine', 'MediaType', 'Orders', 'Playlist', 'PlaylistTrack', 'Track', 'rst']\n"
     ]
    }
   ],
   "source": [
    "# set Logging to DEBUG for more detailed outputs\n",
    "engine = create_engine(\"sqlite:///Chinook.db\")\n",
    "\n",
    "insp = inspect(engine)\n",
    "db_list = insp.get_table_names()\n",
    "print(db_list)"
   ],
   "metadata": {
    "collapsed": false,
    "ExecuteTime": {
     "end_time": "2023-12-08T07:05:00.494830Z",
     "start_time": "2023-12-08T07:05:00.480390Z"
    }
   },
   "id": "b8a96aa9769244dd"
  },
  {
   "cell_type": "code",
   "execution_count": 4,
   "outputs": [
    {
     "name": "stdout",
     "output_type": "stream",
     "text": [
      "dict_keys(['Album', 'Artist', 'Customer', 'Employee', 'Genre', 'Invoice', 'InvoiceLine', 'Track', 'MediaType', 'Orders', 'rst', 'Playlist', 'PlaylistTrack'])\n",
      "Album\n",
      "Artist\n",
      "Customer\n",
      "Employee\n",
      "Genre\n",
      "Invoice\n",
      "InvoiceLine\n",
      "Track\n",
      "MediaType\n",
      "Orders\n",
      "rst\n",
      "Playlist\n",
      "PlaylistTrack\n"
     ]
    }
   ],
   "source": [
    "\n",
    "metadata_obj = MetaData()\n",
    "metadata_obj.reflect(engine)\n",
    "\n",
    "sql_database = SQLDatabase(engine)\n",
    "table_node_mapping = SQLTableNodeMapping(sql_database)\n",
    "table_schema_objs = []\n",
    "print(metadata_obj.tables.keys())\n",
    "for table_name in metadata_obj.tables.keys():\n",
    "    print(table_name)\n",
    "    table_schema_objs.append(SQLTableSchema(table_name=table_name))"
   ],
   "metadata": {
    "collapsed": false,
    "ExecuteTime": {
     "end_time": "2023-12-08T07:05:05.336472Z",
     "start_time": "2023-12-08T07:05:05.297940Z"
    }
   },
   "id": "81e0c9b7c113bb22"
  },
  {
   "cell_type": "code",
   "execution_count": 5,
   "outputs": [
    {
     "name": "stdout",
     "output_type": "stream",
     "text": [
      "here\n"
     ]
    }
   ],
   "source": [
    "obj_index = ObjectIndex.from_objects(\n",
    "    table_schema_objs,\n",
    "    table_node_mapping,\n",
    "    VectorStoreIndex,\n",
    ")\n",
    "\n",
    "query_engine = SQLTableRetrieverQueryEngine(\n",
    "    sql_database, obj_index.as_retriever(similarity_top_k=3)\n",
    ")"
   ],
   "metadata": {
    "collapsed": false,
    "ExecuteTime": {
     "end_time": "2023-12-08T07:05:35.723965Z",
     "start_time": "2023-12-08T07:05:10.068459Z"
    }
   },
   "id": "995f59953f000068"
  },
  {
   "cell_type": "markdown",
   "source": [
    "Send query to LLM"
   ],
   "metadata": {
    "collapsed": false
   },
   "id": "c2802a9a78418759"
  },
  {
   "cell_type": "code",
   "execution_count": 10,
   "outputs": [
    {
     "data": {
      "text/plain": "<IPython.core.display.Markdown object>",
      "text/markdown": "<b>The SQL query you provided is incorrect. The `COUNT(*)` function counts the number of rows in a table, but it is not applied to a specific column or selection of rows. In this case, you are trying to count the number of rows where the `category` column is equal to 'Asian'.\n\nTo fix the query, you need to specify which column or selection of rows you want to count. For example:\n```\nSELECT COUNT(rst.cat) FROM InvoiceLine rst WHERE rst.cat = 'Asian';\n```\nThis query will count the number of rows where the `cat` column is equal to 'Asian'.\n\nAlternatively, you can use the `COUNT(*)` function with a subquery that filters the results by the `category` column:\n```\nSELECT COUNT(*) FROM InvoiceLine WHERE category = 'Asian';\n```\nThis query will count the number of rows where the `category` column is equal to 'Asian', without having to specify the column explicitly.</b>"
     },
     "metadata": {},
     "output_type": "display_data"
    }
   ],
   "source": [
    "response = query_engine.query(\"\"\"how many restaurants have been categorized as “Asian” in the database. Please just answer with the SQL query based on the database schema.\n",
    "For context, rst is short for restaurant, and cat is short for category.\n",
    "\"\"\")\n",
    "display(Markdown(f\"<b>{response}</b>\"))"
   ],
   "metadata": {
    "collapsed": false,
    "ExecuteTime": {
     "end_time": "2023-12-08T07:12:10.853616Z",
     "start_time": "2023-12-08T07:11:41.505568Z"
    }
   },
   "id": "9f1c1b87f7a94207"
  },
  {
   "cell_type": "code",
   "execution_count": null,
   "outputs": [],
   "source": [],
   "metadata": {
    "collapsed": false
   },
   "id": "ce7c301a38b5a5b7"
  }
 ],
 "metadata": {
  "kernelspec": {
   "display_name": "Python 3",
   "language": "python",
   "name": "python3"
  },
  "language_info": {
   "codemirror_mode": {
    "name": "ipython",
    "version": 2
   },
   "file_extension": ".py",
   "mimetype": "text/x-python",
   "name": "python",
   "nbconvert_exporter": "python",
   "pygments_lexer": "ipython2",
   "version": "2.7.6"
  }
 },
 "nbformat": 4,
 "nbformat_minor": 5
}
