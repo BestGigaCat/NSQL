{
 "cells": [
  {
   "cell_type": "code",
   "execution_count": 20,
   "outputs": [
    {
     "data": {
      "text/plain": "Loading checkpoint shards:   0%|          | 0/3 [00:00<?, ?it/s]",
      "application/vnd.jupyter.widget-view+json": {
       "version_major": 2,
       "version_minor": 0,
       "model_id": "fda2d1938fe540f7ae01dcc9068ad77f"
      }
     },
     "metadata": {},
     "output_type": "display_data"
    },
    {
     "name": "stdout",
     "output_type": "stream",
     "text": [
      "['Album', 'Artist', 'Customer', 'Employee', 'Genre', 'Invoice', 'InvoiceLine', 'MediaType', 'Orders', 'Playlist', 'PlaylistTrack', 'Track', 'rst']\n"
     ]
    }
   ],
   "source": [
    "from langchain.embeddings import OllamaEmbeddings\n",
    "from langchain.llms import TextGen\n",
    "\n",
    "from llama_index import (\n",
    "    GPTKeywordTableIndex,\n",
    "    SimpleDirectoryReader,\n",
    "    LLMPredictor,\n",
    "    ServiceContext,\n",
    "    SQLDatabase,\n",
    "    SQLStructStoreIndex, VectorStoreIndex, set_global_service_context\n",
    ")\n",
    "from llama_index.indices.struct_store import SQLContextContainerBuilder, SQLTableRetrieverQueryEngine, \\\n",
    "    NLSQLTableQueryEngine\n",
    "from llama_index.llms import Ollama\n",
    "from llama_index.objects import SQLTableNodeMapping, SQLTableSchema, ObjectIndex\n",
    "\n",
    "from sqlalchemy import (\n",
    "    create_engine,\n",
    "    MetaData,\n",
    "    Table,\n",
    "    Column,\n",
    "    String,\n",
    "    Integer,\n",
    "    select,\n",
    "    inspect,\n",
    ")\n",
    "\n",
    "from sqlalchemy import insert\n",
    "\n",
    "\n",
    "import os\n",
    "from langchain.llms.huggingface_pipeline import HuggingFacePipeline\n",
    "from transformers import AutoModelForCausalLM, AutoTokenizer, pipeline\n",
    "os.environ[\"OPENAI_API_KEY\"] = \"OPENAI_API_KEY\"\n",
    "os.environ[\"REPLICATE_API_TOKEN\"] = \"REPLICATE_API_TOKEN\"\n",
    "\n",
    "# currently needed for notebooks\n",
    "import openai\n",
    "\n",
    "openai.api_key = os.environ[\"OPENAI_API_KEY\"]\n",
    "\n",
    "import logging\n",
    "import sys\n",
    "\n",
    "logging.basicConfig(stream=sys.stdout, level=logging.INFO)\n",
    "logging.getLogger().addHandler(logging.StreamHandler(stream=sys.stdout))\n",
    "\n",
    "from llama_index import (\n",
    "    VectorStoreIndex,\n",
    "    SimpleDirectoryReader,\n",
    ")\n",
    "\n",
    "from IPython.display import Markdown, display\n",
    "\n",
    "model_id = \"NumbersStation/nsql-llama-2-7B\"\n",
    "tokenizer = AutoTokenizer.from_pretrained(model_id)\n",
    "llm = AutoModelForCausalLM.from_pretrained(model_id)\n",
    "llm_predictor = LLMPredictor(llm)\n",
    "embed_model = OllamaEmbeddings(model=\"llama2\")\n",
    "ctx = ServiceContext.from_defaults(llm_predictor=llm_predictor, embed_model=embed_model)\n",
    "set_global_service_context(ctx)\n",
    "\n",
    "engine = create_engine(\"sqlite:///../Chinook.db\")\n",
    "insp = inspect(engine)\n",
    "db_list = insp.get_table_names()\n",
    "print(db_list)\n",
    "sql_database = SQLDatabase(engine)\n",
    "\n",
    "\n"
   ],
   "metadata": {
    "collapsed": false,
    "ExecuteTime": {
     "end_time": "2023-11-17T12:33:38.482321Z",
     "start_time": "2023-11-17T12:32:20.827620Z"
    }
   },
   "id": "3bc8f3ab50a7c831"
  },
  {
   "cell_type": "code",
   "execution_count": 21,
   "outputs": [],
   "source": [
    "# set Logging to DEBUG for more detailed outputs\n",
    "table_node_mapping = SQLTableNodeMapping(sql_database)\n",
    "table_schema_objs = [\n",
    "    (SQLTableSchema(table_name=\"Album\", context_str=\"describe albums\")),  (SQLTableSchema(table_name=\"Customer\", context_str=\"describe customer\")),  (SQLTableSchema(table_name=\"Employee\", context_str=\"describe employees, category is employee category\")),\n",
    "      (SQLTableSchema(table_name=\"rst\", context_str=\"describe restaurant, rst_cat is restaurant category\")),                                                                    \n",
    "]  # add a SQLTableSchema for each table\n",
    "\n",
    "obj_index = ObjectIndex.from_objects(\n",
    "    table_schema_objs,\n",
    "    table_node_mapping,\n",
    "    VectorStoreIndex,\n",
    ")\n",
    "query_engine = SQLTableRetrieverQueryEngine(\n",
    "    sql_database, obj_index.as_retriever(similarity_top_k=3)\n",
    ")"
   ],
   "metadata": {
    "collapsed": false,
    "ExecuteTime": {
     "end_time": "2023-11-17T12:33:55.055519Z",
     "start_time": "2023-11-17T12:33:43.313752Z"
    }
   },
   "id": "a9fe0841d363ace8"
  },
  {
   "cell_type": "code",
   "execution_count": 22,
   "outputs": [
    {
     "name": "stdout",
     "output_type": "stream",
     "text": [
      "INFO:llama_index.indices.struct_store.sql_retriever:> Table desc str: Table 'rst' has columns: rstID (INTEGER), rst_name (VARCHAR(255)), rst_cat (VARCHAR(255)), and foreign keys: . The table description is: describe restaurant, rst_cat is restaurant category\n",
      "\n",
      "Table 'Employee' has columns: EmployeeId (INTEGER), LastName (NVARCHAR(20)), FirstName (NVARCHAR(20)), Title (NVARCHAR(30)), ReportsTo (INTEGER), BirthDate (DATETIME), HireDate (DATETIME), Address (NVARCHAR(70)), City (NVARCHAR(40)), State (NVARCHAR(40)), Country (NVARCHAR(40)), PostalCode (NVARCHAR(10)), Phone (NVARCHAR(24)), Fax (NVARCHAR(24)), Email (NVARCHAR(60)), category (TEXT), rst_id (INTEGER), and foreign keys: ['ReportsTo'] -> Employee.['EmployeeId']. The table description is: describe employees, category is employee category\n",
      "\n",
      "Table 'Album' has columns: AlbumId (INTEGER), Title (NVARCHAR(160)), ArtistId (INTEGER), and foreign keys: ['ArtistId'] -> Artist.['ArtistId']. The table description is: describe albums\n",
      "> Table desc str: Table 'rst' has columns: rstID (INTEGER), rst_name (VARCHAR(255)), rst_cat (VARCHAR(255)), and foreign keys: . The table description is: describe restaurant, rst_cat is restaurant category\n",
      "\n",
      "Table 'Employee' has columns: EmployeeId (INTEGER), LastName (NVARCHAR(20)), FirstName (NVARCHAR(20)), Title (NVARCHAR(30)), ReportsTo (INTEGER), BirthDate (DATETIME), HireDate (DATETIME), Address (NVARCHAR(70)), City (NVARCHAR(40)), State (NVARCHAR(40)), Country (NVARCHAR(40)), PostalCode (NVARCHAR(10)), Phone (NVARCHAR(24)), Fax (NVARCHAR(24)), Email (NVARCHAR(60)), category (TEXT), rst_id (INTEGER), and foreign keys: ['ReportsTo'] -> Employee.['EmployeeId']. The table description is: describe employees, category is employee category\n",
      "\n",
      "Table 'Album' has columns: AlbumId (INTEGER), Title (NVARCHAR(160)), ArtistId (INTEGER), and foreign keys: ['ArtistId'] -> Artist.['ArtistId']. The table description is: describe albums\n",
      "> Table desc str: Table 'rst' has columns: rstID (INTEGER), rst_name (VARCHAR(255)), rst_cat (VARCHAR(255)), and foreign keys: . The table description is: describe restaurant, rst_cat is restaurant category\n",
      "\n",
      "Table 'Employee' has columns: EmployeeId (INTEGER), LastName (NVARCHAR(20)), FirstName (NVARCHAR(20)), Title (NVARCHAR(30)), ReportsTo (INTEGER), BirthDate (DATETIME), HireDate (DATETIME), Address (NVARCHAR(70)), City (NVARCHAR(40)), State (NVARCHAR(40)), Country (NVARCHAR(40)), PostalCode (NVARCHAR(10)), Phone (NVARCHAR(24)), Fax (NVARCHAR(24)), Email (NVARCHAR(60)), category (TEXT), rst_id (INTEGER), and foreign keys: ['ReportsTo'] -> Employee.['EmployeeId']. The table description is: describe employees, category is employee category\n",
      "\n",
      "Table 'Album' has columns: AlbumId (INTEGER), Title (NVARCHAR(160)), ArtistId (INTEGER), and foreign keys: ['ArtistId'] -> Artist.['ArtistId']. The table description is: describe albums\n",
      "> Table desc str: Table 'rst' has columns: rstID (INTEGER), rst_name (VARCHAR(255)), rst_cat (VARCHAR(255)), and foreign keys: . The table description is: describe restaurant, rst_cat is restaurant category\n",
      "\n",
      "Table 'Employee' has columns: EmployeeId (INTEGER), LastName (NVARCHAR(20)), FirstName (NVARCHAR(20)), Title (NVARCHAR(30)), ReportsTo (INTEGER), BirthDate (DATETIME), HireDate (DATETIME), Address (NVARCHAR(70)), City (NVARCHAR(40)), State (NVARCHAR(40)), Country (NVARCHAR(40)), PostalCode (NVARCHAR(10)), Phone (NVARCHAR(24)), Fax (NVARCHAR(24)), Email (NVARCHAR(60)), category (TEXT), rst_id (INTEGER), and foreign keys: ['ReportsTo'] -> Employee.['EmployeeId']. The table description is: describe employees, category is employee category\n",
      "\n",
      "Table 'Album' has columns: AlbumId (INTEGER), Title (NVARCHAR(160)), ArtistId (INTEGER), and foreign keys: ['ArtistId'] -> Artist.['ArtistId']. The table description is: describe albums\n",
      "> Table desc str: Table 'rst' has columns: rstID (INTEGER), rst_name (VARCHAR(255)), rst_cat (VARCHAR(255)), and foreign keys: . The table description is: describe restaurant, rst_cat is restaurant category\n",
      "\n",
      "Table 'Employee' has columns: EmployeeId (INTEGER), LastName (NVARCHAR(20)), FirstName (NVARCHAR(20)), Title (NVARCHAR(30)), ReportsTo (INTEGER), BirthDate (DATETIME), HireDate (DATETIME), Address (NVARCHAR(70)), City (NVARCHAR(40)), State (NVARCHAR(40)), Country (NVARCHAR(40)), PostalCode (NVARCHAR(10)), Phone (NVARCHAR(24)), Fax (NVARCHAR(24)), Email (NVARCHAR(60)), category (TEXT), rst_id (INTEGER), and foreign keys: ['ReportsTo'] -> Employee.['EmployeeId']. The table description is: describe employees, category is employee category\n",
      "\n",
      "Table 'Album' has columns: AlbumId (INTEGER), Title (NVARCHAR(160)), ArtistId (INTEGER), and foreign keys: ['ArtistId'] -> Artist.['ArtistId']. The table description is: describe albums\n",
      "> Table desc str: Table 'rst' has columns: rstID (INTEGER), rst_name (VARCHAR(255)), rst_cat (VARCHAR(255)), and foreign keys: . The table description is: describe restaurant, rst_cat is restaurant category\n",
      "\n",
      "Table 'Employee' has columns: EmployeeId (INTEGER), LastName (NVARCHAR(20)), FirstName (NVARCHAR(20)), Title (NVARCHAR(30)), ReportsTo (INTEGER), BirthDate (DATETIME), HireDate (DATETIME), Address (NVARCHAR(70)), City (NVARCHAR(40)), State (NVARCHAR(40)), Country (NVARCHAR(40)), PostalCode (NVARCHAR(10)), Phone (NVARCHAR(24)), Fax (NVARCHAR(24)), Email (NVARCHAR(60)), category (TEXT), rst_id (INTEGER), and foreign keys: ['ReportsTo'] -> Employee.['EmployeeId']. The table description is: describe employees, category is employee category\n",
      "\n",
      "Table 'Album' has columns: AlbumId (INTEGER), Title (NVARCHAR(160)), ArtistId (INTEGER), and foreign keys: ['ArtistId'] -> Artist.['ArtistId']. The table description is: describe albums\n",
      "> Table desc str: Table 'rst' has columns: rstID (INTEGER), rst_name (VARCHAR(255)), rst_cat (VARCHAR(255)), and foreign keys: . The table description is: describe restaurant, rst_cat is restaurant category\n",
      "\n",
      "Table 'Employee' has columns: EmployeeId (INTEGER), LastName (NVARCHAR(20)), FirstName (NVARCHAR(20)), Title (NVARCHAR(30)), ReportsTo (INTEGER), BirthDate (DATETIME), HireDate (DATETIME), Address (NVARCHAR(70)), City (NVARCHAR(40)), State (NVARCHAR(40)), Country (NVARCHAR(40)), PostalCode (NVARCHAR(10)), Phone (NVARCHAR(24)), Fax (NVARCHAR(24)), Email (NVARCHAR(60)), category (TEXT), rst_id (INTEGER), and foreign keys: ['ReportsTo'] -> Employee.['EmployeeId']. The table description is: describe employees, category is employee category\n",
      "\n",
      "Table 'Album' has columns: AlbumId (INTEGER), Title (NVARCHAR(160)), ArtistId (INTEGER), and foreign keys: ['ArtistId'] -> Artist.['ArtistId']. The table description is: describe albums\n"
     ]
    },
    {
     "ename": "AttributeError",
     "evalue": "'LlamaForCausalLM' object has no attribute 'metadata'",
     "output_type": "error",
     "traceback": [
      "\u001B[0;31m---------------------------------------------------------------------------\u001B[0m",
      "\u001B[0;31mAttributeError\u001B[0m                            Traceback (most recent call last)",
      "Cell \u001B[0;32mIn[22], line 39\u001B[0m\n\u001B[1;32m     32\u001B[0m partial_prompt_tmpl \u001B[38;5;241m=\u001B[39m prompt_tmpl\u001B[38;5;241m.\u001B[39mpartial_format(tone_name\u001B[38;5;241m=\u001B[39m\u001B[38;5;124m\"\u001B[39m\u001B[38;5;124mShakespeare\u001B[39m\u001B[38;5;124m\"\u001B[39m)\n\u001B[1;32m     34\u001B[0m fmt_prompt \u001B[38;5;241m=\u001B[39m partial_prompt_tmpl\u001B[38;5;241m.\u001B[39mformat(\n\u001B[1;32m     35\u001B[0m     query_str\u001B[38;5;241m=\u001B[39m\u001B[38;5;124m\"\u001B[39m\u001B[38;5;124mHow many asian category restaurant do we have?\u001B[39m\u001B[38;5;124m\"\u001B[39m,\n\u001B[1;32m     36\u001B[0m )\n\u001B[0;32m---> 39\u001B[0m response \u001B[38;5;241m=\u001B[39m \u001B[43mquery_engine\u001B[49m\u001B[38;5;241;43m.\u001B[39;49m\u001B[43mquery\u001B[49m\u001B[43m(\u001B[49m\u001B[43mfmt_prompt\u001B[49m\u001B[43m)\u001B[49m\n\u001B[1;32m     40\u001B[0m display(Markdown(\u001B[38;5;124mf\u001B[39m\u001B[38;5;124m\"\u001B[39m\u001B[38;5;124m<b>\u001B[39m\u001B[38;5;132;01m{\u001B[39;00mresponse\u001B[38;5;132;01m}\u001B[39;00m\u001B[38;5;124m</b>\u001B[39m\u001B[38;5;124m\"\u001B[39m))\n",
      "File \u001B[0;32m~/PycharmProjects/NSQL/venv/lib/python3.9/site-packages/llama_index/indices/query/base.py:31\u001B[0m, in \u001B[0;36mBaseQueryEngine.query\u001B[0;34m(self, str_or_query_bundle)\u001B[0m\n\u001B[1;32m     29\u001B[0m \u001B[38;5;28;01mif\u001B[39;00m \u001B[38;5;28misinstance\u001B[39m(str_or_query_bundle, \u001B[38;5;28mstr\u001B[39m):\n\u001B[1;32m     30\u001B[0m     str_or_query_bundle \u001B[38;5;241m=\u001B[39m QueryBundle(str_or_query_bundle)\n\u001B[0;32m---> 31\u001B[0m \u001B[38;5;28;01mreturn\u001B[39;00m \u001B[38;5;28;43mself\u001B[39;49m\u001B[38;5;241;43m.\u001B[39;49m\u001B[43m_query\u001B[49m\u001B[43m(\u001B[49m\u001B[43mstr_or_query_bundle\u001B[49m\u001B[43m)\u001B[49m\n",
      "File \u001B[0;32m~/PycharmProjects/NSQL/venv/lib/python3.9/site-packages/llama_index/indices/struct_store/sql_query.py:297\u001B[0m, in \u001B[0;36mBaseSQLTableQueryEngine._query\u001B[0;34m(self, query_bundle)\u001B[0m\n\u001B[1;32m    295\u001B[0m \u001B[38;5;28;01mdef\u001B[39;00m \u001B[38;5;21m_query\u001B[39m(\u001B[38;5;28mself\u001B[39m, query_bundle: QueryBundle) \u001B[38;5;241m-\u001B[39m\u001B[38;5;241m>\u001B[39m Response:\n\u001B[1;32m    296\u001B[0m \u001B[38;5;250m    \u001B[39m\u001B[38;5;124;03m\"\"\"Answer a query.\"\"\"\u001B[39;00m\n\u001B[0;32m--> 297\u001B[0m     retrieved_nodes, metadata \u001B[38;5;241m=\u001B[39m \u001B[38;5;28;43mself\u001B[39;49m\u001B[38;5;241;43m.\u001B[39;49m\u001B[43msql_retriever\u001B[49m\u001B[38;5;241;43m.\u001B[39;49m\u001B[43mretrieve_with_metadata\u001B[49m\u001B[43m(\u001B[49m\n\u001B[1;32m    298\u001B[0m \u001B[43m        \u001B[49m\u001B[43mquery_bundle\u001B[49m\n\u001B[1;32m    299\u001B[0m \u001B[43m    \u001B[49m\u001B[43m)\u001B[49m\n\u001B[1;32m    301\u001B[0m     sql_query_str \u001B[38;5;241m=\u001B[39m metadata[\u001B[38;5;124m\"\u001B[39m\u001B[38;5;124msql_query\u001B[39m\u001B[38;5;124m\"\u001B[39m]\n\u001B[1;32m    302\u001B[0m     \u001B[38;5;28;01mif\u001B[39;00m \u001B[38;5;28mself\u001B[39m\u001B[38;5;241m.\u001B[39m_synthesize_response:\n",
      "File \u001B[0;32m~/PycharmProjects/NSQL/venv/lib/python3.9/site-packages/llama_index/indices/struct_store/sql_retriever.py:261\u001B[0m, in \u001B[0;36mNLSQLRetriever.retrieve_with_metadata\u001B[0;34m(self, str_or_query_bundle)\u001B[0m\n\u001B[1;32m    258\u001B[0m table_desc_str \u001B[38;5;241m=\u001B[39m \u001B[38;5;28mself\u001B[39m\u001B[38;5;241m.\u001B[39m_get_table_context(query_bundle)\n\u001B[1;32m    259\u001B[0m logger\u001B[38;5;241m.\u001B[39minfo(\u001B[38;5;124mf\u001B[39m\u001B[38;5;124m\"\u001B[39m\u001B[38;5;124m> Table desc str: \u001B[39m\u001B[38;5;132;01m{\u001B[39;00mtable_desc_str\u001B[38;5;132;01m}\u001B[39;00m\u001B[38;5;124m\"\u001B[39m)\n\u001B[0;32m--> 261\u001B[0m response_str \u001B[38;5;241m=\u001B[39m \u001B[38;5;28;43mself\u001B[39;49m\u001B[38;5;241;43m.\u001B[39;49m\u001B[43m_service_context\u001B[49m\u001B[38;5;241;43m.\u001B[39;49m\u001B[43mllm_predictor\u001B[49m\u001B[38;5;241;43m.\u001B[39;49m\u001B[43mpredict\u001B[49m\u001B[43m(\u001B[49m\n\u001B[1;32m    262\u001B[0m \u001B[43m    \u001B[49m\u001B[38;5;28;43mself\u001B[39;49m\u001B[38;5;241;43m.\u001B[39;49m\u001B[43m_text_to_sql_prompt\u001B[49m\u001B[43m,\u001B[49m\n\u001B[1;32m    263\u001B[0m \u001B[43m    \u001B[49m\u001B[43mquery_str\u001B[49m\u001B[38;5;241;43m=\u001B[39;49m\u001B[43mquery_bundle\u001B[49m\u001B[38;5;241;43m.\u001B[39;49m\u001B[43mquery_str\u001B[49m\u001B[43m,\u001B[49m\n\u001B[1;32m    264\u001B[0m \u001B[43m    \u001B[49m\u001B[43mschema\u001B[49m\u001B[38;5;241;43m=\u001B[39;49m\u001B[43mtable_desc_str\u001B[49m\u001B[43m,\u001B[49m\n\u001B[1;32m    265\u001B[0m \u001B[43m    \u001B[49m\u001B[43mdialect\u001B[49m\u001B[38;5;241;43m=\u001B[39;49m\u001B[38;5;28;43mself\u001B[39;49m\u001B[38;5;241;43m.\u001B[39;49m\u001B[43m_sql_database\u001B[49m\u001B[38;5;241;43m.\u001B[39;49m\u001B[43mdialect\u001B[49m\u001B[43m,\u001B[49m\n\u001B[1;32m    266\u001B[0m \u001B[43m\u001B[49m\u001B[43m)\u001B[49m\n\u001B[1;32m    268\u001B[0m sql_query_str \u001B[38;5;241m=\u001B[39m \u001B[38;5;28mself\u001B[39m\u001B[38;5;241m.\u001B[39m_sql_parser\u001B[38;5;241m.\u001B[39mparse_response_to_sql(\n\u001B[1;32m    269\u001B[0m     response_str, query_bundle\n\u001B[1;32m    270\u001B[0m )\n\u001B[1;32m    271\u001B[0m \u001B[38;5;66;03m# assume that it's a valid SQL query\u001B[39;00m\n",
      "File \u001B[0;32m~/PycharmProjects/NSQL/venv/lib/python3.9/site-packages/llama_index/llm_predictor/base.py:188\u001B[0m, in \u001B[0;36mLLMPredictor.predict\u001B[0;34m(self, prompt, output_cls, **prompt_args)\u001B[0m\n\u001B[1;32m    186\u001B[0m \u001B[38;5;28;01mif\u001B[39;00m output_cls \u001B[38;5;129;01mis\u001B[39;00m \u001B[38;5;129;01mnot\u001B[39;00m \u001B[38;5;28;01mNone\u001B[39;00m:\n\u001B[1;32m    187\u001B[0m     output \u001B[38;5;241m=\u001B[39m \u001B[38;5;28mself\u001B[39m\u001B[38;5;241m.\u001B[39m_run_program(output_cls, prompt, \u001B[38;5;241m*\u001B[39m\u001B[38;5;241m*\u001B[39mprompt_args)\n\u001B[0;32m--> 188\u001B[0m \u001B[38;5;28;01melif\u001B[39;00m \u001B[38;5;28;43mself\u001B[39;49m\u001B[38;5;241;43m.\u001B[39;49m\u001B[43m_llm\u001B[49m\u001B[38;5;241;43m.\u001B[39;49m\u001B[43mmetadata\u001B[49m\u001B[38;5;241m.\u001B[39mis_chat_model:\n\u001B[1;32m    189\u001B[0m     messages \u001B[38;5;241m=\u001B[39m prompt\u001B[38;5;241m.\u001B[39mformat_messages(llm\u001B[38;5;241m=\u001B[39m\u001B[38;5;28mself\u001B[39m\u001B[38;5;241m.\u001B[39m_llm, \u001B[38;5;241m*\u001B[39m\u001B[38;5;241m*\u001B[39mprompt_args)\n\u001B[1;32m    190\u001B[0m     messages \u001B[38;5;241m=\u001B[39m \u001B[38;5;28mself\u001B[39m\u001B[38;5;241m.\u001B[39m_extend_messages(messages)\n",
      "File \u001B[0;32m~/PycharmProjects/NSQL/venv/lib/python3.9/site-packages/torch/nn/modules/module.py:1695\u001B[0m, in \u001B[0;36mModule.__getattr__\u001B[0;34m(self, name)\u001B[0m\n\u001B[1;32m   1693\u001B[0m     \u001B[38;5;28;01mif\u001B[39;00m name \u001B[38;5;129;01min\u001B[39;00m modules:\n\u001B[1;32m   1694\u001B[0m         \u001B[38;5;28;01mreturn\u001B[39;00m modules[name]\n\u001B[0;32m-> 1695\u001B[0m \u001B[38;5;28;01mraise\u001B[39;00m \u001B[38;5;167;01mAttributeError\u001B[39;00m(\u001B[38;5;124mf\u001B[39m\u001B[38;5;124m\"\u001B[39m\u001B[38;5;124m'\u001B[39m\u001B[38;5;132;01m{\u001B[39;00m\u001B[38;5;28mtype\u001B[39m(\u001B[38;5;28mself\u001B[39m)\u001B[38;5;241m.\u001B[39m\u001B[38;5;18m__name__\u001B[39m\u001B[38;5;132;01m}\u001B[39;00m\u001B[38;5;124m'\u001B[39m\u001B[38;5;124m object has no attribute \u001B[39m\u001B[38;5;124m'\u001B[39m\u001B[38;5;132;01m{\u001B[39;00mname\u001B[38;5;132;01m}\u001B[39;00m\u001B[38;5;124m'\u001B[39m\u001B[38;5;124m\"\u001B[39m)\n",
      "\u001B[0;31mAttributeError\u001B[0m: 'LlamaForCausalLM' object has no attribute 'metadata'"
     ]
    }
   ],
   "source": [
    "from llama_index import PromptTemplate\n",
    "\n",
    "qa_prompt_tmpl_str = \"\"\"\\\n",
    "Given an input question, first create a syntactically correct SQL query to run, then look at the results of the query and return the answer. The question is {my_query}\n",
    "\n",
    "Use the following format:\n",
    "\n",
    "Question: \"Question here\"\n",
    "\n",
    "SQLQuery: \"SQL Query to run\"\n",
    "\n",
    "SQLResult: \"Result of the SQLQuery\"\n",
    "\n",
    "Answer: \"Final answer here\"\n",
    "\n",
    "Some examples of SQL queries that correspond to questions are:\n",
    "\n",
    "Question: How many different categories in restaurant?\n",
    "Answer: SELECT DISTINCT rst_cat FROM rst;\n",
    "\"\"\"\n",
    "\n",
    "sample_context = \"\"\"\\\n",
    "Question: How many different categories in restaurant?\n",
    "Answer: SELECT DISTINCT rst_cat FROM rst;\n",
    "\"\"\"\n",
    "\n",
    "template_var_mappings = {\"query_str\": \"my_query\"}\n",
    "\n",
    "prompt_tmpl = PromptTemplate(\n",
    "    qa_prompt_tmpl_str, template_var_mappings=template_var_mappings\n",
    ")\n",
    "partial_prompt_tmpl = prompt_tmpl.partial_format(tone_name=\"Shakespeare\")\n",
    "\n",
    "fmt_prompt = partial_prompt_tmpl.format(\n",
    "    query_str=\"How many asian category restaurant do we have?\",\n",
    ")\n",
    "\n",
    "\n",
    "response = query_engine.query(fmt_prompt)\n",
    "display(Markdown(f\"<b>{response}</b>\"))"
   ],
   "metadata": {
    "collapsed": false,
    "ExecuteTime": {
     "end_time": "2023-11-17T12:34:00.674649Z",
     "start_time": "2023-11-17T12:33:59.405171Z"
    }
   },
   "id": "89133701713390e5"
  },
  {
   "cell_type": "code",
   "execution_count": null,
   "outputs": [],
   "source": [],
   "metadata": {
    "collapsed": false
   },
   "id": "ceb6f5141fd0a88"
  }
 ],
 "metadata": {
  "kernelspec": {
   "display_name": "Python 3",
   "language": "python",
   "name": "python3"
  },
  "language_info": {
   "codemirror_mode": {
    "name": "ipython",
    "version": 2
   },
   "file_extension": ".py",
   "mimetype": "text/x-python",
   "name": "python",
   "nbconvert_exporter": "python",
   "pygments_lexer": "ipython2",
   "version": "2.7.6"
  }
 },
 "nbformat": 4,
 "nbformat_minor": 5
}
