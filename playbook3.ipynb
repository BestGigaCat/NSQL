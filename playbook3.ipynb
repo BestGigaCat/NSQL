{
 "cells": [
  {
   "cell_type": "code",
   "execution_count": 1,
   "id": "51a78d42d2433306",
   "metadata": {
    "collapsed": true,
    "ExecuteTime": {
     "end_time": "2023-12-08T07:03:13.790437Z",
     "start_time": "2023-12-08T07:03:12.085075Z"
    }
   },
   "outputs": [
    {
     "name": "stdout",
     "output_type": "stream",
     "text": [
      "['Album', 'Artist', 'Customer', 'Employee', 'Genre', 'Invoice', 'InvoiceLine', 'MediaType', 'Orders', 'Playlist', 'PlaylistTrack', 'Track', 'rst']\n"
     ]
    }
   ],
   "source": [
    "from langchain.embeddings import OllamaEmbeddings\n",
    "from langchain.llms import TextGen\n",
    "\n",
    "from llama_index import (\n",
    "    GPTKeywordTableIndex,\n",
    "    SimpleDirectoryReader,\n",
    "    LLMPredictor,\n",
    "    ServiceContext,\n",
    "    SQLDatabase,\n",
    "    SQLStructStoreIndex, VectorStoreIndex, set_global_service_context\n",
    ")\n",
    "from llama_index.indices.struct_store import SQLContextContainerBuilder, SQLTableRetrieverQueryEngine, \\\n",
    "    NLSQLTableQueryEngine\n",
    "from llama_index.llms import Ollama\n",
    "from llama_index.objects import SQLTableNodeMapping, SQLTableSchema, ObjectIndex\n",
    "\n",
    "from sqlalchemy import (\n",
    "    create_engine,\n",
    "    MetaData,\n",
    "    Table,\n",
    "    Column,\n",
    "    String,\n",
    "    Integer,\n",
    "    select,\n",
    "    inspect,\n",
    ")\n",
    "\n",
    "from sqlalchemy import insert\n",
    "\n",
    "import os\n",
    "\n",
    "os.environ[\"OPENAI_API_KEY\"] = \"OPENAI_API_KEY\"\n",
    "os.environ[\"REPLICATE_API_TOKEN\"] = \"REPLICATE_API_TOKEN\"\n",
    "\n",
    "# currently needed for notebooks\n",
    "import openai\n",
    "\n",
    "openai.api_key = os.environ[\"OPENAI_API_KEY\"]\n",
    "\n",
    "import logging\n",
    "import sys\n",
    "\n",
    "logging.basicConfig(stream=sys.stdout, level=logging.DEBUG)\n",
    "logging.getLogger().addHandler(logging.StreamHandler(stream=sys.stdout))\n",
    "\n",
    "from llama_index import (\n",
    "    VectorStoreIndex,\n",
    "    SimpleDirectoryReader,\n",
    ")\n",
    "\n",
    "from IPython.display import Markdown, display\n",
    "\n",
    "llm = Ollama(model=\"llama2\", temperature=1)\n",
    "llm_predictor = LLMPredictor(llm)\n",
    "embed_model = OllamaEmbeddings(model=\"llama2:13b\")\n",
    "ctx = ServiceContext.from_defaults(llm_predictor=llm_predictor, embed_model=embed_model)\n",
    "set_global_service_context(ctx)\n",
    "\n",
    "engine = create_engine(\"sqlite:///Chinook.db\")\n",
    "insp = inspect(engine)\n",
    "db_list = insp.get_table_names()\n",
    "print(db_list)"
   ]
  },
  {
   "cell_type": "code",
   "execution_count": 2,
   "outputs": [
    {
     "name": "stdout",
     "output_type": "stream",
     "text": [
      "DEBUG:urllib3.connectionpool:Starting new HTTP connection (1): localhost:11434\n",
      "Starting new HTTP connection (1): localhost:11434\n",
      "DEBUG:urllib3.connectionpool:http://localhost:11434 \"POST /api/embeddings HTTP/1.1\" 200 None\n",
      "http://localhost:11434 \"POST /api/embeddings HTTP/1.1\" 200 None\n",
      "DEBUG:urllib3.connectionpool:Starting new HTTP connection (1): localhost:11434\n",
      "Starting new HTTP connection (1): localhost:11434\n",
      "DEBUG:urllib3.connectionpool:http://localhost:11434 \"POST /api/embeddings HTTP/1.1\" 200 None\n",
      "http://localhost:11434 \"POST /api/embeddings HTTP/1.1\" 200 None\n",
      "DEBUG:urllib3.connectionpool:Starting new HTTP connection (1): localhost:11434\n",
      "Starting new HTTP connection (1): localhost:11434\n",
      "DEBUG:urllib3.connectionpool:http://localhost:11434 \"POST /api/embeddings HTTP/1.1\" 200 None\n",
      "http://localhost:11434 \"POST /api/embeddings HTTP/1.1\" 200 None\n",
      "DEBUG:urllib3.connectionpool:Starting new HTTP connection (1): localhost:11434\n",
      "Starting new HTTP connection (1): localhost:11434\n",
      "DEBUG:urllib3.connectionpool:http://localhost:11434 \"POST /api/embeddings HTTP/1.1\" 200 None\n",
      "http://localhost:11434 \"POST /api/embeddings HTTP/1.1\" 200 None\n",
      "DEBUG:urllib3.connectionpool:Starting new HTTP connection (1): localhost:11434\n",
      "Starting new HTTP connection (1): localhost:11434\n",
      "DEBUG:urllib3.connectionpool:http://localhost:11434 \"POST /api/embeddings HTTP/1.1\" 200 None\n",
      "http://localhost:11434 \"POST /api/embeddings HTTP/1.1\" 200 None\n"
     ]
    }
   ],
   "source": [
    "\n",
    "sql_database = SQLDatabase(engine)\n",
    "\n",
    "# set Logging to DEBUG for more detailed outputs\n",
    "table_node_mapping = SQLTableNodeMapping(sql_database)\n",
    "table_schema_objs = [\n",
    "    (SQLTableSchema(table_name=\"Album\", context_str=\"describe albums\")),  (SQLTableSchema(table_name=\"Customer\", context_str=\"describe customer\")),  (SQLTableSchema(table_name=\"Employee\", context_str=\"contains employees information: BirthDate is birth date of the employee\")),\n",
    "    (SQLTableSchema(table_name=\"Orders\", context_str=\"contains orders information\")),\n",
    "      (SQLTableSchema(table_name=\"rst\", context_str=\"contains restaurant information, rst_cat is restaurant category\")),                                                                    \n",
    "]  # add a SQLTableSchema for each table\n",
    "\n",
    "obj_index = ObjectIndex.from_objects(\n",
    "    table_schema_objs,\n",
    "    table_node_mapping,\n",
    "    VectorStoreIndex,\n",
    ")\n",
    "query_engine = SQLTableRetrieverQueryEngine(\n",
    "    sql_database, obj_index.as_retriever(similarity_top_k=3)\n",
    ")\n",
    "\n"
   ],
   "metadata": {
    "collapsed": false,
    "ExecuteTime": {
     "end_time": "2023-11-14T01:02:25.424388Z",
     "start_time": "2023-11-14T01:02:09.489702Z"
    }
   },
   "id": "initial_id"
  },
  {
   "cell_type": "code",
   "execution_count": 5,
   "outputs": [
    {
     "name": "stdout",
     "output_type": "stream",
     "text": [
      "DEBUG:urllib3.connectionpool:Starting new HTTP connection (1): localhost:11434\n",
      "Starting new HTTP connection (1): localhost:11434\n",
      "DEBUG:urllib3.connectionpool:http://localhost:11434 \"POST /api/embeddings HTTP/1.1\" 200 None\n",
      "http://localhost:11434 \"POST /api/embeddings HTTP/1.1\" 200 None\n",
      "DEBUG:llama_index.indices.utils:> Top 3 nodes:\n",
      "> [Node 86435f61-4829-4a58-98d7-b238596a4998] [Similarity score:             0.203719] Schema of table rst:\n",
      "Table 'rst' has columns: rstID (INTEGER), rst_name (VARCHAR(255)), rst_cat (...\n",
      "> [Node d71dbff9-4a1b-4d5f-98df-4eba1ce7b3d4] [Similarity score:             0.18362] Schema of table Employee:\n",
      "Table 'Employee' has columns: EmployeeId (INTEGER), LastName (NVARCHAR(...\n",
      "> [Node 51292d4d-b72d-4890-bff4-1105dc11a490] [Similarity score:             0.154699] Schema of table Album:\n",
      "Table 'Album' has columns: AlbumId (INTEGER), Title (NVARCHAR(160)), Artis...\n",
      "> Top 3 nodes:\n",
      "> [Node 86435f61-4829-4a58-98d7-b238596a4998] [Similarity score:             0.203719] Schema of table rst:\n",
      "Table 'rst' has columns: rstID (INTEGER), rst_name (VARCHAR(255)), rst_cat (...\n",
      "> [Node d71dbff9-4a1b-4d5f-98df-4eba1ce7b3d4] [Similarity score:             0.18362] Schema of table Employee:\n",
      "Table 'Employee' has columns: EmployeeId (INTEGER), LastName (NVARCHAR(...\n",
      "> [Node 51292d4d-b72d-4890-bff4-1105dc11a490] [Similarity score:             0.154699] Schema of table Album:\n",
      "Table 'Album' has columns: AlbumId (INTEGER), Title (NVARCHAR(160)), Artis...\n",
      "INFO:llama_index.indices.struct_store.sql_retriever:> Table desc str: Table 'rst' has columns: rstID (INTEGER), rst_name (VARCHAR(255)), rst_cat (VARCHAR(255)), and foreign keys: . The table description is: contains restaurant information, rst_cat is restaurant category\n",
      "\n",
      "Table 'Employee' has columns: EmployeeId (INTEGER), LastName (NVARCHAR(20)), FirstName (NVARCHAR(20)), Title (NVARCHAR(30)), ReportsTo (INTEGER), BirthDate (DATETIME), HireDate (DATETIME), Address (NVARCHAR(70)), City (NVARCHAR(40)), State (NVARCHAR(40)), Country (NVARCHAR(40)), PostalCode (NVARCHAR(10)), Phone (NVARCHAR(24)), Fax (NVARCHAR(24)), Email (NVARCHAR(60)), category (TEXT), rst_id (INTEGER), and foreign keys: ['ReportsTo'] -> Employee.['EmployeeId']. The table description is: contains employees information: BirthDate is birth date of the employee\n",
      "\n",
      "Table 'Album' has columns: AlbumId (INTEGER), Title (NVARCHAR(160)), ArtistId (INTEGER), and foreign keys: ['ArtistId'] -> Artist.['ArtistId']. The table description is: describe albums\n",
      "> Table desc str: Table 'rst' has columns: rstID (INTEGER), rst_name (VARCHAR(255)), rst_cat (VARCHAR(255)), and foreign keys: . The table description is: contains restaurant information, rst_cat is restaurant category\n",
      "\n",
      "Table 'Employee' has columns: EmployeeId (INTEGER), LastName (NVARCHAR(20)), FirstName (NVARCHAR(20)), Title (NVARCHAR(30)), ReportsTo (INTEGER), BirthDate (DATETIME), HireDate (DATETIME), Address (NVARCHAR(70)), City (NVARCHAR(40)), State (NVARCHAR(40)), Country (NVARCHAR(40)), PostalCode (NVARCHAR(10)), Phone (NVARCHAR(24)), Fax (NVARCHAR(24)), Email (NVARCHAR(60)), category (TEXT), rst_id (INTEGER), and foreign keys: ['ReportsTo'] -> Employee.['EmployeeId']. The table description is: contains employees information: BirthDate is birth date of the employee\n",
      "\n",
      "Table 'Album' has columns: AlbumId (INTEGER), Title (NVARCHAR(160)), ArtistId (INTEGER), and foreign keys: ['ArtistId'] -> Artist.['ArtistId']. The table description is: describe albums\n",
      "DEBUG:urllib3.connectionpool:Starting new HTTP connection (1): localhost:11434\n",
      "Starting new HTTP connection (1): localhost:11434\n",
      "DEBUG:urllib3.connectionpool:http://localhost:11434 \"POST /api/generate/ HTTP/1.1\" 307 0\n",
      "http://localhost:11434 \"POST /api/generate/ HTTP/1.1\" 307 0\n",
      "DEBUG:urllib3.connectionpool:http://localhost:11434 \"POST /api/generate HTTP/1.1\" 200 None\n",
      "http://localhost:11434 \"POST /api/generate HTTP/1.1\" 200 None\n",
      "DEBUG:llama_index.llm_predictor.base:Question: Find the lastname of the youngest employee?\n",
      "\n",
      "SQLQuery: SELECT LastName FROM Employee ORDER BY HireDate DESC LIMIT 1;\n",
      "\n",
      "SQLResult: The result is one row with the lastname \"Smith\".\n",
      "\n",
      "Answer: The lastname of the youngest employee is \"Smith\".\n",
      "Question: Find the lastname of the youngest employee?\n",
      "\n",
      "SQLQuery: SELECT LastName FROM Employee ORDER BY HireDate DESC LIMIT 1;\n",
      "\n",
      "SQLResult: The result is one row with the lastname \"Smith\".\n",
      "\n",
      "Answer: The lastname of the youngest employee is \"Smith\".\n",
      "DEBUG:llama_index.indices.struct_store.sql_retriever:> Predicted SQL query: SELECT LastName FROM Employee ORDER BY HireDate DESC LIMIT 1;\n",
      "> Predicted SQL query: SELECT LastName FROM Employee ORDER BY HireDate DESC LIMIT 1;\n",
      "DEBUG:urllib3.connectionpool:Starting new HTTP connection (1): localhost:11434\n",
      "Starting new HTTP connection (1): localhost:11434\n",
      "DEBUG:urllib3.connectionpool:http://localhost:11434 \"POST /api/generate/ HTTP/1.1\" 307 0\n",
      "http://localhost:11434 \"POST /api/generate/ HTTP/1.1\" 307 0\n",
      "DEBUG:urllib3.connectionpool:http://localhost:11434 \"POST /api/generate HTTP/1.1\" 200 None\n",
      "http://localhost:11434 \"POST /api/generate HTTP/1.1\" 200 None\n",
      "DEBUG:llama_index.llm_predictor.base:The youngest employee in the company is Callahan.\n",
      "The youngest employee in the company is Callahan.\n"
     ]
    },
    {
     "data": {
      "text/plain": "<IPython.core.display.Markdown object>",
      "text/markdown": "<b>The youngest employee in the company is Callahan.</b>"
     },
     "metadata": {},
     "output_type": "display_data"
    }
   ],
   "source": [
    "from llama_index import PromptTemplate\n",
    "\n",
    "qa_prompt_tmpl_str = \"\"\"\\\n",
    "Context information is below.\n",
    "---------------------\n",
    "{my_context}\n",
    "---------------------\n",
    "Given the context information and not prior knowledge, answer the query.\n",
    "Query: {my_query}\n",
    "Answer: \\\n",
    "\"\"\"\n",
    "\n",
    "template_var_mappings = {\"context_str\": \"my_context\", \"query_str\": \"my_query\"}\n",
    "\n",
    "prompt_tmpl = PromptTemplate(\n",
    "    qa_prompt_tmpl_str, template_var_mappings=template_var_mappings\n",
    ")\n",
    "partial_prompt_tmpl = prompt_tmpl.partial_format(tone_name=\"Shakespeare\")\n",
    "\n",
    "\n",
    "fmt_prompt = partial_prompt_tmpl.format(\n",
    "    context_str=\"SELECT * FROM Employee\",\n",
    "    query_str=\"Find the lastname the youngest employee?\",\n",
    ")\n",
    "\n",
    "\n",
    "response = query_engine.query(fmt_prompt)\n",
    "display(Markdown(f\"<b>{response}</b>\"))"
   ],
   "metadata": {
    "collapsed": false,
    "ExecuteTime": {
     "end_time": "2023-11-14T01:06:30.549491Z",
     "start_time": "2023-11-14T01:06:10.460029Z"
    }
   },
   "id": "405b67422ce9322d"
  },
  {
   "cell_type": "code",
   "execution_count": 3,
   "outputs": [],
   "source": [],
   "metadata": {
    "collapsed": false,
    "ExecuteTime": {
     "end_time": "2023-11-14T01:02:40.908355Z",
     "start_time": "2023-11-14T01:02:40.902156Z"
    }
   },
   "id": "947c2540893c6a35"
  }
 ],
 "metadata": {
  "kernelspec": {
   "display_name": "Python 3",
   "language": "python",
   "name": "python3"
  },
  "language_info": {
   "codemirror_mode": {
    "name": "ipython",
    "version": 2
   },
   "file_extension": ".py",
   "mimetype": "text/x-python",
   "name": "python",
   "nbconvert_exporter": "python",
   "pygments_lexer": "ipython2",
   "version": "2.7.6"
  }
 },
 "nbformat": 4,
 "nbformat_minor": 5
}
