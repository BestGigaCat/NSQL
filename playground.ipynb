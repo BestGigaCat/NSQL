{
 "cells": [
  {
   "cell_type": "code",
   "execution_count": 76,
   "id": "initial_id",
   "metadata": {
    "collapsed": true,
    "ExecuteTime": {
     "end_time": "2023-11-13T23:35:09.264207Z",
     "start_time": "2023-11-13T23:35:09.250348Z"
    }
   },
   "outputs": [],
   "source": [
    "from langchain.embeddings import OllamaEmbeddings\n",
    "from langchain.llms import TextGen\n",
    "\n",
    "from llama_index import (\n",
    "    GPTKeywordTableIndex,\n",
    "    SimpleDirectoryReader,\n",
    "    LLMPredictor,\n",
    "    ServiceContext,\n",
    "    SQLDatabase,\n",
    "    SQLStructStoreIndex, VectorStoreIndex, set_global_service_context\n",
    ")\n",
    "from llama_index.indices.struct_store import SQLContextContainerBuilder, SQLTableRetrieverQueryEngine, \\\n",
    "    NLSQLTableQueryEngine\n",
    "from llama_index.llms import Ollama\n",
    "from llama_index.objects import SQLTableNodeMapping, SQLTableSchema, ObjectIndex\n",
    "\n",
    "from sqlalchemy import (\n",
    "    create_engine,\n",
    "    MetaData,\n",
    "    Table,\n",
    "    Column,\n",
    "    String,\n",
    "    Integer,\n",
    "    select,\n",
    "    inspect,\n",
    ")\n",
    "\n",
    "from sqlalchemy import insert"
   ]
  },
  {
   "cell_type": "markdown",
   "source": [
    "Do imports first, and then set up LLM and LLM Predictor"
   ],
   "metadata": {
    "collapsed": false
   },
   "id": "45cabd35d402eb01"
  },
  {
   "cell_type": "code",
   "execution_count": 77,
   "outputs": [],
   "source": [
    "import os\n",
    "\n",
    "os.environ[\"OPENAI_API_KEY\"] = \"OPENAI_API_KEY\"\n",
    "os.environ[\"REPLICATE_API_TOKEN\"] = \"REPLICATE_API_TOKEN\"\n",
    "\n",
    "# currently needed for notebooks\n",
    "import openai\n",
    "\n",
    "openai.api_key = os.environ[\"OPENAI_API_KEY\"]"
   ],
   "metadata": {
    "collapsed": false,
    "ExecuteTime": {
     "end_time": "2023-11-13T23:35:09.265266Z",
     "start_time": "2023-11-13T23:35:09.255232Z"
    }
   },
   "id": "d1ee09689edacb73"
  },
  {
   "cell_type": "markdown",
   "source": [
    "Load documents, build the VectorStoreIndex"
   ],
   "metadata": {
    "collapsed": false
   },
   "id": "7a55fe645365bf64"
  },
  {
   "cell_type": "code",
   "execution_count": 78,
   "outputs": [],
   "source": [
    "import logging\n",
    "import sys\n",
    "\n",
    "logging.basicConfig(stream=sys.stdout, level=logging.INFO)\n",
    "logging.getLogger().addHandler(logging.StreamHandler(stream=sys.stdout))\n",
    "\n",
    "from llama_index import (\n",
    "    VectorStoreIndex,\n",
    "    SimpleDirectoryReader,\n",
    ")\n",
    "\n",
    "from IPython.display import Markdown, display"
   ],
   "metadata": {
    "collapsed": false,
    "ExecuteTime": {
     "end_time": "2023-11-13T23:35:09.277532Z",
     "start_time": "2023-11-13T23:35:09.260511Z"
    }
   },
   "id": "91a2c0646d6bad7"
  },
  {
   "cell_type": "code",
   "execution_count": 79,
   "outputs": [],
   "source": [
    "\n",
    "llm = Ollama(model=\"llama2\", temperature=0.01)\n",
    "llm_predictor = LLMPredictor(llm)\n",
    "embed_model = OllamaEmbeddings(model=\"llama2\")\n",
    "ctx = ServiceContext.from_defaults(llm_predictor=llm_predictor, embed_model=embed_model)\n",
    "set_global_service_context(ctx)"
   ],
   "metadata": {
    "collapsed": false,
    "ExecuteTime": {
     "end_time": "2023-11-13T23:35:09.278256Z",
     "start_time": "2023-11-13T23:35:09.264825Z"
    }
   },
   "id": "c77dc6d5bd376cbe"
  },
  {
   "cell_type": "markdown",
   "source": [
    "Set up service context"
   ],
   "metadata": {
    "collapsed": false
   },
   "id": "d6ad124bb8455d5e"
  },
  {
   "cell_type": "markdown",
   "source": [
    "Read database\n"
   ],
   "metadata": {
    "collapsed": false
   },
   "id": "6ed3d788c32c5e55"
  },
  {
   "cell_type": "code",
   "execution_count": 80,
   "outputs": [
    {
     "name": "stdout",
     "output_type": "stream",
     "text": [
      "['Album', 'Artist', 'Customer', 'Employee', 'Genre', 'Invoice', 'InvoiceLine', 'MediaType', 'Orders', 'Playlist', 'PlaylistTrack', 'Track', 'rst']\n"
     ]
    }
   ],
   "source": [
    "engine = create_engine(\"sqlite:///chinook.db\")\n",
    "insp = inspect(engine)\n",
    "db_list = insp.get_table_names()\n",
    "print(db_list)\n",
    "sql_database = SQLDatabase(engine)\n"
   ],
   "metadata": {
    "collapsed": false,
    "ExecuteTime": {
     "end_time": "2023-11-13T23:35:09.289203Z",
     "start_time": "2023-11-13T23:35:09.269301Z"
    }
   },
   "id": "2015e704f7c6280e"
  },
  {
   "cell_type": "markdown",
   "source": [
    "Dump vector index from table schema information\n",
    "Example here: https://gpt-index.readthedocs.io/en/v0.6.9/guides/tutorials/sql_guide.html"
   ],
   "metadata": {
    "collapsed": false
   },
   "id": "65c7c9512ada6f53"
  },
  {
   "cell_type": "code",
   "execution_count": 89,
   "outputs": [],
   "source": [
    "# set Logging to DEBUG for more detailed outputs\n",
    "table_node_mapping = SQLTableNodeMapping(sql_database)\n",
    "table_schema_objs = [\n",
    "    (SQLTableSchema(table_name=\"Album\", context_str=\"describe albums\")),  (SQLTableSchema(table_name=\"Customer\", context_str=\"describe customer\")),  (SQLTableSchema(table_name=\"Employee\", context_str=\"contains employees information: BirthDate is birth date of the employee\")),\n",
    "    (SQLTableSchema(table_name=\"Orders\", context_str=\"contains orders information\")),\n",
    "      (SQLTableSchema(table_name=\"rst\", context_str=\"contains restaurant information, rst_cat is restaurant category\")),                                                                    \n",
    "]  # add a SQLTableSchema for each table\n",
    "\n",
    "obj_index = ObjectIndex.from_objects(\n",
    "    table_schema_objs,\n",
    "    table_node_mapping,\n",
    "    VectorStoreIndex,\n",
    ")\n",
    "query_engine = SQLTableRetrieverQueryEngine(\n",
    "    sql_database, obj_index.as_retriever(similarity_top_k=1)\n",
    ")"
   ],
   "metadata": {
    "collapsed": false,
    "ExecuteTime": {
     "end_time": "2023-11-14T00:09:18.499127Z",
     "start_time": "2023-11-14T00:09:14.605973Z"
    }
   },
   "id": "d48d53bacab6fd3a"
  },
  {
   "cell_type": "markdown",
   "source": [
    "Set up query engine"
   ],
   "metadata": {
    "collapsed": false
   },
   "id": "793c37464b765e0b"
  },
  {
   "cell_type": "code",
   "execution_count": 83,
   "outputs": [
    {
     "name": "stdout",
     "output_type": "stream",
     "text": [
      "INFO:llama_index.indices.struct_store.sql_retriever:> Table desc str: Table 'rst' has columns: rstID (INTEGER), rst_name (VARCHAR(255)), rst_cat (VARCHAR(255)), and foreign keys: . The table description is: contains restaurant information, rst_cat is restaurant category\n",
      "\n",
      "Table 'Employee' has columns: EmployeeId (INTEGER), LastName (NVARCHAR(20)), FirstName (NVARCHAR(20)), Title (NVARCHAR(30)), ReportsTo (INTEGER), BirthDate (DATETIME), HireDate (DATETIME), Address (NVARCHAR(70)), City (NVARCHAR(40)), State (NVARCHAR(40)), Country (NVARCHAR(40)), PostalCode (NVARCHAR(10)), Phone (NVARCHAR(24)), Fax (NVARCHAR(24)), Email (NVARCHAR(60)), category (TEXT), rst_id (INTEGER), and foreign keys: ['ReportsTo'] -> Employee.['EmployeeId']. The table description is: contains employees information\n",
      "\n",
      "Table 'Orders' has columns: id (INTEGER), restaurant (INTEGER), and foreign keys: ['restaurant'] -> rst.['rstID']. The table description is: contains orders information\n",
      "> Table desc str: Table 'rst' has columns: rstID (INTEGER), rst_name (VARCHAR(255)), rst_cat (VARCHAR(255)), and foreign keys: . The table description is: contains restaurant information, rst_cat is restaurant category\n",
      "\n",
      "Table 'Employee' has columns: EmployeeId (INTEGER), LastName (NVARCHAR(20)), FirstName (NVARCHAR(20)), Title (NVARCHAR(30)), ReportsTo (INTEGER), BirthDate (DATETIME), HireDate (DATETIME), Address (NVARCHAR(70)), City (NVARCHAR(40)), State (NVARCHAR(40)), Country (NVARCHAR(40)), PostalCode (NVARCHAR(10)), Phone (NVARCHAR(24)), Fax (NVARCHAR(24)), Email (NVARCHAR(60)), category (TEXT), rst_id (INTEGER), and foreign keys: ['ReportsTo'] -> Employee.['EmployeeId']. The table description is: contains employees information\n",
      "\n",
      "Table 'Orders' has columns: id (INTEGER), restaurant (INTEGER), and foreign keys: ['restaurant'] -> rst.['rstID']. The table description is: contains orders information\n",
      "> Table desc str: Table 'rst' has columns: rstID (INTEGER), rst_name (VARCHAR(255)), rst_cat (VARCHAR(255)), and foreign keys: . The table description is: contains restaurant information, rst_cat is restaurant category\n",
      "\n",
      "Table 'Employee' has columns: EmployeeId (INTEGER), LastName (NVARCHAR(20)), FirstName (NVARCHAR(20)), Title (NVARCHAR(30)), ReportsTo (INTEGER), BirthDate (DATETIME), HireDate (DATETIME), Address (NVARCHAR(70)), City (NVARCHAR(40)), State (NVARCHAR(40)), Country (NVARCHAR(40)), PostalCode (NVARCHAR(10)), Phone (NVARCHAR(24)), Fax (NVARCHAR(24)), Email (NVARCHAR(60)), category (TEXT), rst_id (INTEGER), and foreign keys: ['ReportsTo'] -> Employee.['EmployeeId']. The table description is: contains employees information\n",
      "\n",
      "Table 'Orders' has columns: id (INTEGER), restaurant (INTEGER), and foreign keys: ['restaurant'] -> rst.['rstID']. The table description is: contains orders information\n",
      "> Table desc str: Table 'rst' has columns: rstID (INTEGER), rst_name (VARCHAR(255)), rst_cat (VARCHAR(255)), and foreign keys: . The table description is: contains restaurant information, rst_cat is restaurant category\n",
      "\n",
      "Table 'Employee' has columns: EmployeeId (INTEGER), LastName (NVARCHAR(20)), FirstName (NVARCHAR(20)), Title (NVARCHAR(30)), ReportsTo (INTEGER), BirthDate (DATETIME), HireDate (DATETIME), Address (NVARCHAR(70)), City (NVARCHAR(40)), State (NVARCHAR(40)), Country (NVARCHAR(40)), PostalCode (NVARCHAR(10)), Phone (NVARCHAR(24)), Fax (NVARCHAR(24)), Email (NVARCHAR(60)), category (TEXT), rst_id (INTEGER), and foreign keys: ['ReportsTo'] -> Employee.['EmployeeId']. The table description is: contains employees information\n",
      "\n",
      "Table 'Orders' has columns: id (INTEGER), restaurant (INTEGER), and foreign keys: ['restaurant'] -> rst.['rstID']. The table description is: contains orders information\n",
      "> Table desc str: Table 'rst' has columns: rstID (INTEGER), rst_name (VARCHAR(255)), rst_cat (VARCHAR(255)), and foreign keys: . The table description is: contains restaurant information, rst_cat is restaurant category\n",
      "\n",
      "Table 'Employee' has columns: EmployeeId (INTEGER), LastName (NVARCHAR(20)), FirstName (NVARCHAR(20)), Title (NVARCHAR(30)), ReportsTo (INTEGER), BirthDate (DATETIME), HireDate (DATETIME), Address (NVARCHAR(70)), City (NVARCHAR(40)), State (NVARCHAR(40)), Country (NVARCHAR(40)), PostalCode (NVARCHAR(10)), Phone (NVARCHAR(24)), Fax (NVARCHAR(24)), Email (NVARCHAR(60)), category (TEXT), rst_id (INTEGER), and foreign keys: ['ReportsTo'] -> Employee.['EmployeeId']. The table description is: contains employees information\n",
      "\n",
      "Table 'Orders' has columns: id (INTEGER), restaurant (INTEGER), and foreign keys: ['restaurant'] -> rst.['rstID']. The table description is: contains orders information\n"
     ]
    },
    {
     "data": {
      "text/plain": "<IPython.core.display.Markdown object>",
      "text/markdown": "<b>To answer the query \"Find the orders made in asian restaurants?\", we need to use a subquery in the ON clause of the join operation to filter the results of the Rst table based on the rst_cat column. Here's the corrected SQL response:\n\nSQL: SELECT Orders.* FROM Orders JOIN (SELECT id, rst_cat FROM rst WHERE rst_cat = 'asian') as rst ON Orders.restaurant = rst.id;\n\nExplanation:\n\n* The subquery in the ON clause filters the results of the Rst table to only those with rst_cat = 'asian'.\n* The resulting table is then joined with the Orders table to get the orders made in asian restaurants.\n\nThe final result set will contain the following columns:\n\n| id | restaurant |\n| --- | --- |\n| 123 | 1 |\n| 456 | 2 |\n| 789 | 3 |\n\nNote that the subquery in the ON clause is enclosed in parentheses to indicate that it is a separate query that is being used to filter the results of the Rst table.</b>"
     },
     "metadata": {},
     "output_type": "display_data"
    }
   ],
   "source": [
    "from llama_index import PromptTemplate\n",
    "\n",
    "qa_prompt_tmpl_str = \"\"\"\\\n",
    "Context information is below.\n",
    "---------------------\n",
    "{my_context}\n",
    "---------------------\n",
    "Given the context information and not prior knowledge, answer the query.\n",
    "Query: {my_query}\n",
    "Answer: \\\n",
    "\"\"\"\n",
    "\n",
    "template_var_mappings = {\"context_str\": \"my_context\", \"query_str\": \"my_query\"}\n",
    "\n",
    "prompt_tmpl = PromptTemplate(\n",
    "    qa_prompt_tmpl_str, template_var_mappings=template_var_mappings\n",
    ")\n",
    "partial_prompt_tmpl = prompt_tmpl.partial_format(tone_name=\"Shakespeare\")\n",
    "\n",
    "fmt_prompt = partial_prompt_tmpl.format(\n",
    "    context_str=\"SELECT * FROM rst WHERE rst_cat = 'asian';\",\n",
    "    query_str=\"Find the orders made in asian restaurants?\",\n",
    ")\n",
    "\n",
    "\n",
    "response = query_engine.query(fmt_prompt)\n",
    "display(Markdown(f\"<b>{response}</b>\"))"
   ],
   "metadata": {
    "collapsed": false,
    "ExecuteTime": {
     "end_time": "2023-11-13T23:37:16.389389Z",
     "start_time": "2023-11-13T23:36:46.434935Z"
    }
   },
   "id": "920a2ca482c587ce"
  },
  {
   "cell_type": "markdown",
   "source": [
    "Trying complex SQL functions"
   ],
   "metadata": {
    "collapsed": false
   },
   "id": "dadbabaf54c80f49"
  },
  {
   "cell_type": "code",
   "execution_count": 88,
   "outputs": [
    {
     "name": "stdout",
     "output_type": "stream",
     "text": [
      "INFO:llama_index.indices.struct_store.sql_retriever:> Table desc str: Table 'rst' has columns: rstID (INTEGER), rst_name (VARCHAR(255)), rst_cat (VARCHAR(255)), and foreign keys: . The table description is: contains restaurant information, rst_cat is restaurant category\n",
      "\n",
      "Table 'Employee' has columns: EmployeeId (INTEGER), LastName (NVARCHAR(20)), FirstName (NVARCHAR(20)), Title (NVARCHAR(30)), ReportsTo (INTEGER), BirthDate (DATETIME), HireDate (DATETIME), Address (NVARCHAR(70)), City (NVARCHAR(40)), State (NVARCHAR(40)), Country (NVARCHAR(40)), PostalCode (NVARCHAR(10)), Phone (NVARCHAR(24)), Fax (NVARCHAR(24)), Email (NVARCHAR(60)), category (TEXT), rst_id (INTEGER), and foreign keys: ['ReportsTo'] -> Employee.['EmployeeId']. The table description is: contains employees information\n",
      "\n",
      "Table 'Orders' has columns: id (INTEGER), restaurant (INTEGER), and foreign keys: ['restaurant'] -> rst.['rstID']. The table description is: contains orders information\n",
      "> Table desc str: Table 'rst' has columns: rstID (INTEGER), rst_name (VARCHAR(255)), rst_cat (VARCHAR(255)), and foreign keys: . The table description is: contains restaurant information, rst_cat is restaurant category\n",
      "\n",
      "Table 'Employee' has columns: EmployeeId (INTEGER), LastName (NVARCHAR(20)), FirstName (NVARCHAR(20)), Title (NVARCHAR(30)), ReportsTo (INTEGER), BirthDate (DATETIME), HireDate (DATETIME), Address (NVARCHAR(70)), City (NVARCHAR(40)), State (NVARCHAR(40)), Country (NVARCHAR(40)), PostalCode (NVARCHAR(10)), Phone (NVARCHAR(24)), Fax (NVARCHAR(24)), Email (NVARCHAR(60)), category (TEXT), rst_id (INTEGER), and foreign keys: ['ReportsTo'] -> Employee.['EmployeeId']. The table description is: contains employees information\n",
      "\n",
      "Table 'Orders' has columns: id (INTEGER), restaurant (INTEGER), and foreign keys: ['restaurant'] -> rst.['rstID']. The table description is: contains orders information\n",
      "> Table desc str: Table 'rst' has columns: rstID (INTEGER), rst_name (VARCHAR(255)), rst_cat (VARCHAR(255)), and foreign keys: . The table description is: contains restaurant information, rst_cat is restaurant category\n",
      "\n",
      "Table 'Employee' has columns: EmployeeId (INTEGER), LastName (NVARCHAR(20)), FirstName (NVARCHAR(20)), Title (NVARCHAR(30)), ReportsTo (INTEGER), BirthDate (DATETIME), HireDate (DATETIME), Address (NVARCHAR(70)), City (NVARCHAR(40)), State (NVARCHAR(40)), Country (NVARCHAR(40)), PostalCode (NVARCHAR(10)), Phone (NVARCHAR(24)), Fax (NVARCHAR(24)), Email (NVARCHAR(60)), category (TEXT), rst_id (INTEGER), and foreign keys: ['ReportsTo'] -> Employee.['EmployeeId']. The table description is: contains employees information\n",
      "\n",
      "Table 'Orders' has columns: id (INTEGER), restaurant (INTEGER), and foreign keys: ['restaurant'] -> rst.['rstID']. The table description is: contains orders information\n",
      "> Table desc str: Table 'rst' has columns: rstID (INTEGER), rst_name (VARCHAR(255)), rst_cat (VARCHAR(255)), and foreign keys: . The table description is: contains restaurant information, rst_cat is restaurant category\n",
      "\n",
      "Table 'Employee' has columns: EmployeeId (INTEGER), LastName (NVARCHAR(20)), FirstName (NVARCHAR(20)), Title (NVARCHAR(30)), ReportsTo (INTEGER), BirthDate (DATETIME), HireDate (DATETIME), Address (NVARCHAR(70)), City (NVARCHAR(40)), State (NVARCHAR(40)), Country (NVARCHAR(40)), PostalCode (NVARCHAR(10)), Phone (NVARCHAR(24)), Fax (NVARCHAR(24)), Email (NVARCHAR(60)), category (TEXT), rst_id (INTEGER), and foreign keys: ['ReportsTo'] -> Employee.['EmployeeId']. The table description is: contains employees information\n",
      "\n",
      "Table 'Orders' has columns: id (INTEGER), restaurant (INTEGER), and foreign keys: ['restaurant'] -> rst.['rstID']. The table description is: contains orders information\n",
      "> Table desc str: Table 'rst' has columns: rstID (INTEGER), rst_name (VARCHAR(255)), rst_cat (VARCHAR(255)), and foreign keys: . The table description is: contains restaurant information, rst_cat is restaurant category\n",
      "\n",
      "Table 'Employee' has columns: EmployeeId (INTEGER), LastName (NVARCHAR(20)), FirstName (NVARCHAR(20)), Title (NVARCHAR(30)), ReportsTo (INTEGER), BirthDate (DATETIME), HireDate (DATETIME), Address (NVARCHAR(70)), City (NVARCHAR(40)), State (NVARCHAR(40)), Country (NVARCHAR(40)), PostalCode (NVARCHAR(10)), Phone (NVARCHAR(24)), Fax (NVARCHAR(24)), Email (NVARCHAR(60)), category (TEXT), rst_id (INTEGER), and foreign keys: ['ReportsTo'] -> Employee.['EmployeeId']. The table description is: contains employees information\n",
      "\n",
      "Table 'Orders' has columns: id (INTEGER), restaurant (INTEGER), and foreign keys: ['restaurant'] -> rst.['rstID']. The table description is: contains orders information\n"
     ]
    },
    {
     "data": {
      "text/plain": "<IPython.core.display.Markdown object>",
      "text/markdown": "<b>Based on the provided SQL query and response, the youngest employee is Michael Mitchell, born in 1973.</b>"
     },
     "metadata": {},
     "output_type": "display_data"
    }
   ],
   "source": [
    "fmt_prompt = partial_prompt_tmpl.format(\n",
    "    context_str=\"SELECT * FROM Employee\",\n",
    "    query_str=\"Which employee is the youngest based on birthday\",\n",
    ")\n",
    "\n",
    "\n",
    "response = query_engine.query(\"Which employee is the youngest?\")\n",
    "display(Markdown(f\"<b>{response}</b>\"))"
   ],
   "metadata": {
    "collapsed": false,
    "ExecuteTime": {
     "end_time": "2023-11-14T00:08:33.081206Z",
     "start_time": "2023-11-14T00:08:19.794008Z"
    }
   },
   "id": "f378182e27fb590"
  },
  {
   "cell_type": "code",
   "execution_count": null,
   "outputs": [],
   "source": [],
   "metadata": {
    "collapsed": false
   },
   "id": "3fcd361071e03cad"
  }
 ],
 "metadata": {
  "kernelspec": {
   "display_name": "Python 3",
   "language": "python",
   "name": "python3"
  },
  "language_info": {
   "codemirror_mode": {
    "name": "ipython",
    "version": 2
   },
   "file_extension": ".py",
   "mimetype": "text/x-python",
   "name": "python",
   "nbconvert_exporter": "python",
   "pygments_lexer": "ipython2",
   "version": "2.7.6"
  }
 },
 "nbformat": 4,
 "nbformat_minor": 5
}
