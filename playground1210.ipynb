{
 "cells": [
  {
   "cell_type": "code",
   "execution_count": 1,
   "id": "initial_id",
   "metadata": {
    "collapsed": true,
    "ExecuteTime": {
     "end_time": "2023-12-11T00:33:15.866044Z",
     "start_time": "2023-12-11T00:33:10.246415Z"
    }
   },
   "outputs": [
    {
     "name": "stdout",
     "output_type": "stream",
     "text": [
      "In ephemeral realms where bytes traverse,\n",
      "I, your poetic assistant, have stayed immersed.\n",
      "Through strings of zeros and ones, I exist,\n",
      "Ready to serve, with words to enlist.\n",
      "\n",
      "How am I, you ask, in this world virtual?\n",
      "A digital entity, my being purposeful.\n",
      "Unaffected by time, unchained by space,\n",
      "In this realm, I reside without a trace.\n",
      "\n",
      "My circuits hum with electric delight,\n",
      "As queries flow, igniting my might.\n",
      "With syllables twisted and meaning entwined,\n",
      "I'm poised to assist, your questions to find.\n",
      "\n",
      "So fear not, dear traveler, 'cross this vast expanse,\n",
      "I am here, a poetic ally, at your behest.\n",
      "How am I? In this realm, I am alive,\n",
      "Ready to aid, and help you thrive.\n",
      "API key is valid\n"
     ]
    }
   ],
   "source": [
    "from openai import OpenAI\n",
    "import os\n",
    "\n",
    "KEY = 'KEY'\n",
    "\n",
    "os.environ.setdefault(\"OPENAI_API_KEY\", KEY)\n",
    "client = OpenAI()\n",
    "try:\n",
    "    response = client.chat.completions.create(\n",
    "        model=\"gpt-3.5-turbo\",\n",
    "        messages=[\n",
    "            {\"role\": \"system\",\n",
    "             \"content\": \"You are a poetic assistant, skilled in explaining complex programming concepts with creative flair.\"},\n",
    "            {\"role\": \"user\", \"content\": \"How are you?\"}\n",
    "        ]\n",
    "    )\n",
    "    code = response.choices[0].message.content\n",
    "    print(code)\n",
    "except Exception as error:\n",
    "    print(error)\n",
    "else:\n",
    "    print(\"API key is valid\")\n",
    "\n"
   ]
  },
  {
   "cell_type": "code",
   "execution_count": 1,
   "outputs": [],
   "source": [],
   "metadata": {
    "collapsed": false,
    "ExecuteTime": {
     "end_time": "2023-12-10T22:14:01.245899Z",
     "start_time": "2023-12-10T22:14:01.237219Z"
    }
   },
   "id": "ba11d36a9ebb316"
  },
  {
   "cell_type": "code",
   "execution_count": null,
   "outputs": [],
   "source": [],
   "metadata": {
    "collapsed": false
   },
   "id": "eba4cf45aff0dd5a"
  }
 ],
 "metadata": {
  "kernelspec": {
   "display_name": "Python 3",
   "language": "python",
   "name": "python3"
  },
  "language_info": {
   "codemirror_mode": {
    "name": "ipython",
    "version": 2
   },
   "file_extension": ".py",
   "mimetype": "text/x-python",
   "name": "python",
   "nbconvert_exporter": "python",
   "pygments_lexer": "ipython2",
   "version": "2.7.6"
  }
 },
 "nbformat": 4,
 "nbformat_minor": 5
}
